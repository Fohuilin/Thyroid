{
 "cells": [
  {
   "cell_type": "code",
   "execution_count": 3,
   "metadata": {},
   "outputs": [],
   "source": [
    "import warnings\n",
    "warnings.filterwarnings('ignore')\n",
    "\n",
    "import winsound\n",
    "duration = 500\n",
    "frequency = 440\n",
    "\n",
    "import pandas as pd\n",
    "from pingouin import intraclass_corr\n",
    "from sklearn.metrics import cohen_kappa_score\n"
   ]
  },
  {
   "cell_type": "code",
   "execution_count": null,
   "metadata": {},
   "outputs": [],
   "source": [
    "# intra-observer ICC\n",
    "#  reading Excel data\n",
    "file_path = r'E:\\Pystudy\\Thyroid_P_N\\data\\results\\data_use\\mix\\ICC\\intra_ICC.xlsx'\n",
    "df1 = pd.read_excel(file_path, sheet_name=0)\n",
    "df2 = pd.read_excel(file_path, sheet_name=1)\n",
    "\n",
    "# ICC:intra-observer name\n",
    "assert all(df1['Name'] == df2['Name']), \"Subject names or order differ between sheets.\"\n",
    "non_quantitative_columnames = ['Nodules', 'Shape', 'Margin', 'Cystic', 'ETE', 'Enhancement', 'TI_RADS_score']\n",
    "\n",
    "df_icc = pd.DataFrame()\n",
    "df_icc['Name'] = df1['Name']\n",
    "\n",
    "for column in df1.columns:\n",
    "    if column != 'Name' and column not in non_quantitative_columnames:\n",
    "        df_icc[f'{column}_first'] = df1[column]\n",
    "        df_icc[f'{column}_second'] = df2[column]\n",
    "\n",
    "# ICC:intra-observer\n",
    "icc_results = {}\n",
    "for column in df1.columns:\n",
    "    if column != 'Name' and column not in non_quantitative_columnames:\n",
    "        data_for_icc = pd.DataFrame({\n",
    "            'rater': ['first']*len(df_icc) + ['second']*len(df_icc),\n",
    "            'value': df_icc[f'{column}_first'].tolist() + df_icc[f'{column}_second'].tolist(),\n",
    "            'subject': df_icc['Name'].tolist()*2\n",
    "        })\n",
    "        icc_value = intraclass_corr(data=data_for_icc, targets='subject', raters='rater', ratings='value').loc[3, 'ICC']\n",
    "        icc_results[column] = icc_value\n",
    "\n",
    "# save intra-observer ICC to Excel\n",
    "icc_df = pd.DataFrame(list(icc_results.items()), columns=['Measurement', 'ICC'])\n",
    "save_path = r\"E:\\Pystudy\\Thyroid_P_N\\data\\results\\data_use\\mix\\ICC\\icc_results.xlsx\"\n",
    "icc_df.to_excel(save_path, index=False)\n",
    "\n",
    "print(f\"ICC results saved to {save_path}\")\n",
    "\n",
    "winsound.Beep(frequency, duration)"
   ]
  },
  {
   "cell_type": "code",
   "execution_count": null,
   "metadata": {},
   "outputs": [],
   "source": [
    "# inter-observer ICC\n",
    "#  reading Excel data\n",
    "file_path = r'E:\\Pystudy\\Thyroid_P_N\\data\\results\\data_use\\mix\\ICC\\intra_ICC.xlsx'\n",
    "df1 = pd.read_excel(file_path, sheet_name=0)  \n",
    "df2 = pd.read_excel(file_path, sheet_name=2)  \n",
    "\n",
    "# ICC: inter-observer name\n",
    "assert all(df1['Name'] == df2['Name']), \"Subject names or order differ between sheets.\"\n",
    "non_quantitative_columnames = ['Nodules', 'Shape', 'Margin', 'Cystic', 'ETE', 'Enhancement', 'TI_RADS_score']\n",
    "\n",
    "df_icc = pd.DataFrame()\n",
    "df_icc['Name'] = df1['Name']\n",
    "\n",
    "for column in df1.columns:\n",
    "    if column != 'Name' and column not in non_quantitative_columnames:\n",
    "        df_icc[f'{column}_observer1'] = df1[column]\n",
    "        df_icc[f'{column}_observer2'] = df2[column]\n",
    "\n",
    "# ICC: inter-observer\n",
    "icc_results = {}\n",
    "for column in df1.columns:\n",
    "    if column != 'Name' and column not in non_quantitative_columnames:\n",
    "        data_for_icc = pd.DataFrame({\n",
    "            'rater': ['observer1']*len(df_icc) + ['observer2']*len(df_icc),\n",
    "            'value': df_icc[f'{column}_observer1'].tolist() + df_icc[f'{column}_observer2'].tolist(),\n",
    "            'subject': df_icc['Name'].tolist()*2\n",
    "        })\n",
    "        icc_value = intraclass_corr(data=data_for_icc, targets='subject', raters='rater', ratings='value').loc[3, 'ICC']\n",
    "        icc_results[column] = icc_value\n",
    "\n",
    "# save inter-observer ICC to Excel\n",
    "icc_df = pd.DataFrame(list(icc_results.items()), columns=['Measurement', 'ICC'])\n",
    "save_path = r\"E:\\Pystudy\\Thyroid_P_N\\data\\results\\data_use\\mix\\ICC\\icc_results.xlsx\"\n",
    "with pd.ExcelWriter(r\"E:\\Pystudy\\Thyroid_P_N\\data\\results\\data_use\\mix\\ICC\\icc_results.xlsx\", engine='openpyxl', mode='a') as writer:\n",
    "    icc_df.to_excel(writer, sheet_name='Inter-Observer', index=False)\n",
    "\n",
    "print(f\"Inter-Observer ICC results added to {save_path}\")\n",
    "\n",
    "winsound.Beep(frequency, duration)\n"
   ]
  },
  {
   "cell_type": "code",
   "execution_count": 4,
   "metadata": {},
   "outputs": [
    {
     "name": "stdout",
     "output_type": "stream",
     "text": [
      "Cohen's Kappa results added to E:\\Pystudy\\Thyroid_P_N\\data\\results\\data_use\\mix\\ICC\\icc_results.xlsx\n"
     ]
    }
   ],
   "source": [
    "# Cohen's Kappa: intra-observer\n",
    "\n",
    "# reading Excel data\n",
    "file_path = r'E:\\Pystudy\\Thyroid_P_N\\data\\results\\data_use\\mix\\ICC\\intra_ICC.xlsx'\n",
    "df1 = pd.read_excel(file_path, sheet_name=0)\n",
    "df2 = pd.read_excel(file_path, sheet_name=1)\n",
    "\n",
    "assert all(df1['Name'] == df2['Name']), \"Subject names or order differ between sheets.\"\n",
    "\n",
    "qualitative_columnames = ['Nodules', 'Shape', 'Margin', 'Cystic', 'ETE', 'Enhancement', 'TI_RADS_score']\n",
    "\n",
    "# intra-observer Cohen's Kappa\n",
    "kappa_results = {}\n",
    "for column in qualitative_columnames:\n",
    "    kappa_value = cohen_kappa_score(df1[column], df2[column])\n",
    "    kappa_results[column] = kappa_value\n",
    "\n",
    "# save intra-observer Cohen's Kappa to Excel\n",
    "kappa_df = pd.DataFrame(list(kappa_results.items()), columns=['Qualitative Measurement', 'Cohen\\'s Kappa'])\n",
    "save_path = r\"E:\\Pystudy\\Thyroid_P_N\\data\\results\\data_use\\mix\\ICC\\icc_results.xlsx\"\n",
    "with pd.ExcelWriter(r\"E:\\Pystudy\\Thyroid_P_N\\data\\results\\data_use\\mix\\ICC\\icc_results.xlsx\", engine='openpyxl', mode='a') as writer:\n",
    "    kappa_df.to_excel(writer, sheet_name='Intra-Observer Cohen\\'s Kappa', index=False)\n",
    "\n",
    "print(f\"Cohen's Kappa results added to {save_path}\")\n",
    "\n",
    "winsound.Beep(frequency, duration)\n"
   ]
  },
  {
   "cell_type": "code",
   "execution_count": 6,
   "metadata": {},
   "outputs": [
    {
     "name": "stdout",
     "output_type": "stream",
     "text": [
      "Cohen's Kappa results added to E:\\Pystudy\\Thyroid_P_N\\data\\results\\data_use\\mix\\ICC\\icc_results.xlsx\n"
     ]
    }
   ],
   "source": [
    "# Cohen's Kappa: inter-observer\n",
    "\n",
    "# reading Excel data \n",
    "file_path = r'E:\\Pystudy\\Thyroid_P_N\\data\\results\\data_use\\mix\\ICC\\intra_ICC.xlsx'\n",
    "df1 = pd.read_excel(file_path, sheet_name=0)  \n",
    "df2 = pd.read_excel(file_path, sheet_name=2) \n",
    "\n",
    "assert all(df1['Name'] == df2['Name']), \"Subject names or order differ between sheets.\"\n",
    "\n",
    "qualitative_columnames = ['Nodules', 'Shape', 'Margin', 'Cystic', 'ETE', 'Enhancement', 'TI_RADS_score']\n",
    "\n",
    "# inter-observer Cohen's Kappa\n",
    "kappa_results = {}\n",
    "for column in qualitative_columnames:\n",
    "    kappa_value = cohen_kappa_score(df1[column], df2[column])\n",
    "    kappa_results[column] = kappa_value\n",
    "\n",
    "# save inter-observer Cohen's Kappa to Excel\n",
    "kappa_df = pd.DataFrame(list(kappa_results.items()), columns=['Qualitative Measurement', 'Cohen\\'s Kappa'])\n",
    "save_path = r\"E:\\Pystudy\\Thyroid_P_N\\data\\results\\data_use\\mix\\ICC\\icc_results.xlsx\"\n",
    "with pd.ExcelWriter(r\"E:\\Pystudy\\Thyroid_P_N\\data\\results\\data_use\\mix\\ICC\\icc_results.xlsx\", engine='openpyxl', mode='a') as writer:\n",
    "    kappa_df.to_excel(writer, sheet_name='Inter-Observer Cohen\\'s Kappa', index=False)\n",
    "\n",
    "print(f\"Cohen's Kappa results added to {save_path}\")\n",
    "\n",
    "winsound.Beep(frequency, duration)"
   ]
  }
 ],
 "metadata": {
  "kernelspec": {
   "display_name": "venv_thyroid_jicheng",
   "language": "python",
   "name": "python3"
  },
  "language_info": {
   "codemirror_mode": {
    "name": "ipython",
    "version": 3
   },
   "file_extension": ".py",
   "mimetype": "text/x-python",
   "name": "python",
   "nbconvert_exporter": "python",
   "pygments_lexer": "ipython3",
   "version": "3.10.8"
  }
 },
 "nbformat": 4,
 "nbformat_minor": 2
}
